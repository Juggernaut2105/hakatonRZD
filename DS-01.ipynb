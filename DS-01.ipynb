{
 "cells": [
  {
   "cell_type": "code",
   "execution_count": 20,
   "metadata": {},
   "outputs": [],
   "source": [
    "import pandas as pd\n",
    "import numpy as np\n",
    "import matplotlib.pyplot as plt\n",
    "import seaborn as sns"
   ]
  },
  {
   "cell_type": "code",
   "execution_count": 15,
   "metadata": {},
   "outputs": [
    {
     "data": {
      "text/html": [
       "<div>\n",
       "<style scoped>\n",
       "    .dataframe tbody tr th:only-of-type {\n",
       "        vertical-align: middle;\n",
       "    }\n",
       "\n",
       "    .dataframe tbody tr th {\n",
       "        vertical-align: top;\n",
       "    }\n",
       "\n",
       "    .dataframe thead th {\n",
       "        text-align: right;\n",
       "    }\n",
       "</style>\n",
       "<table border=\"1\" class=\"dataframe\">\n",
       "  <thead>\n",
       "    <tr style=\"text-align: right;\">\n",
       "      <th></th>\n",
       "      <th>operation_st_esr</th>\n",
       "      <th>car_number</th>\n",
       "      <th>start3_date</th>\n",
       "      <th>end4_date</th>\n",
       "      <th>1Xduration</th>\n",
       "      <th>2Xduration</th>\n",
       "      <th>duration</th>\n",
       "    </tr>\n",
       "  </thead>\n",
       "  <tbody>\n",
       "    <tr>\n",
       "      <th>0</th>\n",
       "      <td>943803</td>\n",
       "      <td>24562753</td>\n",
       "      <td>2020-07-14 17:11:00</td>\n",
       "      <td>2020-07-21 19:56:00</td>\n",
       "      <td>35.566667</td>\n",
       "      <td>135.183333</td>\n",
       "      <td>170.750000</td>\n",
       "    </tr>\n",
       "    <tr>\n",
       "      <th>1</th>\n",
       "      <td>943803</td>\n",
       "      <td>29196490</td>\n",
       "      <td>2020-07-18 05:52:00</td>\n",
       "      <td>2020-07-25 07:03:00</td>\n",
       "      <td>0.000000</td>\n",
       "      <td>169.183333</td>\n",
       "      <td>169.183333</td>\n",
       "    </tr>\n",
       "    <tr>\n",
       "      <th>2</th>\n",
       "      <td>943803</td>\n",
       "      <td>29501491</td>\n",
       "      <td>2020-07-16 15:55:00</td>\n",
       "      <td>2020-07-25 07:03:00</td>\n",
       "      <td>0.000000</td>\n",
       "      <td>207.133333</td>\n",
       "      <td>207.133333</td>\n",
       "    </tr>\n",
       "    <tr>\n",
       "      <th>3</th>\n",
       "      <td>943803</td>\n",
       "      <td>29649290</td>\n",
       "      <td>2020-07-18 05:52:00</td>\n",
       "      <td>2020-07-25 07:03:00</td>\n",
       "      <td>0.000000</td>\n",
       "      <td>169.183333</td>\n",
       "      <td>169.183333</td>\n",
       "    </tr>\n",
       "    <tr>\n",
       "      <th>4</th>\n",
       "      <td>943803</td>\n",
       "      <td>29649399</td>\n",
       "      <td>2020-07-13 16:37:00</td>\n",
       "      <td>2020-07-16 07:58:00</td>\n",
       "      <td>42.383333</td>\n",
       "      <td>20.966667</td>\n",
       "      <td>63.350000</td>\n",
       "    </tr>\n",
       "  </tbody>\n",
       "</table>\n",
       "</div>"
      ],
      "text/plain": [
       "   operation_st_esr  car_number         start3_date           end4_date  \\\n",
       "0            943803    24562753 2020-07-14 17:11:00 2020-07-21 19:56:00   \n",
       "1            943803    29196490 2020-07-18 05:52:00 2020-07-25 07:03:00   \n",
       "2            943803    29501491 2020-07-16 15:55:00 2020-07-25 07:03:00   \n",
       "3            943803    29649290 2020-07-18 05:52:00 2020-07-25 07:03:00   \n",
       "4            943803    29649399 2020-07-13 16:37:00 2020-07-16 07:58:00   \n",
       "\n",
       "   1Xduration  2Xduration    duration  \n",
       "0   35.566667  135.183333  170.750000  \n",
       "1    0.000000  169.183333  169.183333  \n",
       "2    0.000000  207.133333  207.133333  \n",
       "3    0.000000  169.183333  169.183333  \n",
       "4   42.383333   20.966667   63.350000  "
      ]
     },
     "execution_count": 15,
     "metadata": {},
     "output_type": "execute_result"
    }
   ],
   "source": [
    "data = pd.read_csv('4stantions.csv', parse_dates=[3,4])\n",
    "data.drop(['Unnamed: 0'], axis=1, inplace=True)\n",
    "#data.astype({'operation_st_esr':'int64', 'car_number':'int64'}).dtypes\n",
    "data.operation_st_esr = data.operation_st_esr.astype(int)\n",
    "data.car_number=data.car_number.astype(int)\n",
    "data.head()"
   ]
  },
  {
   "cell_type": "code",
   "execution_count": 16,
   "metadata": {},
   "outputs": [
    {
     "data": {
      "text/plain": [
       "967600    19332\n",
       "946801     2003\n",
       "943803      116\n",
       "954102      111\n",
       "Name: operation_st_esr, dtype: int64"
      ]
     },
     "execution_count": 16,
     "metadata": {},
     "output_type": "execute_result"
    }
   ],
   "source": [
    "data.operation_st_esr.value_counts()"
   ]
  },
  {
   "cell_type": "code",
   "execution_count": 21,
   "metadata": {},
   "outputs": [
    {
     "data": {
      "image/png": "[encoded data removed]",
      "text/plain": [
       "<Figure size 1152x360 with 1 Axes>"
      ]
     },
     "metadata": {
      "needs_background": "light"
     },
     "output_type": "display_data"
    }
   ],
   "source": [
    "plt.figure(figsize = (16,5))\n",
    "sns.boxplot(x= 'duration', y = 'operation_st_esr', data=data, orient='h')\n",
    "plt.title('Длительность обработки вновь отправленного вагона', fontsize=15)\n",
    "plt.show();"
   ]
  },
  {
   "cell_type": "code",
   "execution_count": 24,
   "metadata": {},
   "outputs": [
    {
     "data": {
      "text/html": [
       "<div>\n",
       "<style scoped>\n",
       "    .dataframe tbody tr th:only-of-type {\n",
       "        vertical-align: middle;\n",
       "    }\n",
       "\n",
       "    .dataframe tbody tr th {\n",
       "        vertical-align: top;\n",
       "    }\n",
       "\n",
       "    .dataframe thead th {\n",
       "        text-align: right;\n",
       "    }\n",
       "</style>\n",
       "<table border=\"1\" class=\"dataframe\">\n",
       "  <thead>\n",
       "    <tr style=\"text-align: right;\">\n",
       "      <th></th>\n",
       "      <th>operation_st_esr</th>\n",
       "      <th>car_number</th>\n",
       "      <th>start3_date</th>\n",
       "      <th>end4_date</th>\n",
       "      <th>1Xduration</th>\n",
       "      <th>2Xduration</th>\n",
       "      <th>duration</th>\n",
       "      <th>unload_only</th>\n",
       "      <th>load_only</th>\n",
       "    </tr>\n",
       "  </thead>\n",
       "  <tbody>\n",
       "    <tr>\n",
       "      <th>0</th>\n",
       "      <td>943803</td>\n",
       "      <td>24562753</td>\n",
       "      <td>2020-07-14 17:11:00</td>\n",
       "      <td>2020-07-21 19:56:00</td>\n",
       "      <td>35.566667</td>\n",
       "      <td>135.183333</td>\n",
       "      <td>170.750000</td>\n",
       "      <td>0</td>\n",
       "      <td>0</td>\n",
       "    </tr>\n",
       "    <tr>\n",
       "      <th>1</th>\n",
       "      <td>943803</td>\n",
       "      <td>29196490</td>\n",
       "      <td>2020-07-18 05:52:00</td>\n",
       "      <td>2020-07-25 07:03:00</td>\n",
       "      <td>0.000000</td>\n",
       "      <td>169.183333</td>\n",
       "      <td>169.183333</td>\n",
       "      <td>1</td>\n",
       "      <td>0</td>\n",
       "    </tr>\n",
       "    <tr>\n",
       "      <th>2</th>\n",
       "      <td>943803</td>\n",
       "      <td>29501491</td>\n",
       "      <td>2020-07-16 15:55:00</td>\n",
       "      <td>2020-07-25 07:03:00</td>\n",
       "      <td>0.000000</td>\n",
       "      <td>207.133333</td>\n",
       "      <td>207.133333</td>\n",
       "      <td>1</td>\n",
       "      <td>0</td>\n",
       "    </tr>\n",
       "    <tr>\n",
       "      <th>3</th>\n",
       "      <td>943803</td>\n",
       "      <td>29649290</td>\n",
       "      <td>2020-07-18 05:52:00</td>\n",
       "      <td>2020-07-25 07:03:00</td>\n",
       "      <td>0.000000</td>\n",
       "      <td>169.183333</td>\n",
       "      <td>169.183333</td>\n",
       "      <td>1</td>\n",
       "      <td>0</td>\n",
       "    </tr>\n",
       "    <tr>\n",
       "      <th>4</th>\n",
       "      <td>943803</td>\n",
       "      <td>29649399</td>\n",
       "      <td>2020-07-13 16:37:00</td>\n",
       "      <td>2020-07-16 07:58:00</td>\n",
       "      <td>42.383333</td>\n",
       "      <td>20.966667</td>\n",
       "      <td>63.350000</td>\n",
       "      <td>0</td>\n",
       "      <td>0</td>\n",
       "    </tr>\n",
       "  </tbody>\n",
       "</table>\n",
       "</div>"
      ],
      "text/plain": [
       "   operation_st_esr  car_number         start3_date           end4_date  \\\n",
       "0            943803    24562753 2020-07-14 17:11:00 2020-07-21 19:56:00   \n",
       "1            943803    29196490 2020-07-18 05:52:00 2020-07-25 07:03:00   \n",
       "2            943803    29501491 2020-07-16 15:55:00 2020-07-25 07:03:00   \n",
       "3            943803    29649290 2020-07-18 05:52:00 2020-07-25 07:03:00   \n",
       "4            943803    29649399 2020-07-13 16:37:00 2020-07-16 07:58:00   \n",
       "\n",
       "   1Xduration  2Xduration    duration  unload_only  load_only  \n",
       "0   35.566667  135.183333  170.750000            0          0  \n",
       "1    0.000000  169.183333  169.183333            1          0  \n",
       "2    0.000000  207.133333  207.133333            1          0  \n",
       "3    0.000000  169.183333  169.183333            1          0  \n",
       "4   42.383333   20.966667   63.350000            0          0  "
      ]
     },
     "execution_count": 24,
     "metadata": {},
     "output_type": "execute_result"
    }
   ],
   "source": [
    "data['unload_only'] = data['1Xduration'].apply(lambda x: 1 if x < 0.5 else 0)\n",
    "data['load_only'] = data['2Xduration'].apply(lambda x: 1 if x < 0.5 else 0 )\n",
    "data.head()"
   ]
  },
  {
   "cell_type": "code",
   "execution_count": 64,
   "metadata": {},
   "outputs": [
    {
     "name": "stdout",
     "output_type": "stream",
     "text": [
      "167751\n"
     ]
    },
    {
     "data": {
      "text/html": [
       "<div>\n",
       "<style scoped>\n",
       "    .dataframe tbody tr th:only-of-type {\n",
       "        vertical-align: middle;\n",
       "    }\n",
       "\n",
       "    .dataframe tbody tr th {\n",
       "        vertical-align: top;\n",
       "    }\n",
       "\n",
       "    .dataframe thead th {\n",
       "        text-align: right;\n",
       "    }\n",
       "</style>\n",
       "<table border=\"1\" class=\"dataframe\">\n",
       "  <thead>\n",
       "    <tr style=\"text-align: right;\">\n",
       "      <th></th>\n",
       "      <th>operation_st_esr</th>\n",
       "      <th>car_number</th>\n",
       "      <th>start3_date</th>\n",
       "      <th>end4_date</th>\n",
       "      <th>1Xduration</th>\n",
       "      <th>2Xduration</th>\n",
       "      <th>duration</th>\n",
       "      <th>unload_only</th>\n",
       "      <th>load_only</th>\n",
       "    </tr>\n",
       "  </thead>\n",
       "  <tbody>\n",
       "    <tr>\n",
       "      <th>1</th>\n",
       "      <td>943803</td>\n",
       "      <td>29196490</td>\n",
       "      <td>2020-07-18 05:52:00</td>\n",
       "      <td>2020-07-25 07:03:00</td>\n",
       "      <td>0.0</td>\n",
       "      <td>169.183333</td>\n",
       "      <td>169.183333</td>\n",
       "      <td>1</td>\n",
       "      <td>0</td>\n",
       "    </tr>\n",
       "    <tr>\n",
       "      <th>2</th>\n",
       "      <td>943803</td>\n",
       "      <td>29501491</td>\n",
       "      <td>2020-07-16 15:55:00</td>\n",
       "      <td>2020-07-25 07:03:00</td>\n",
       "      <td>0.0</td>\n",
       "      <td>207.133333</td>\n",
       "      <td>207.133333</td>\n",
       "      <td>1</td>\n",
       "      <td>0</td>\n",
       "    </tr>\n",
       "    <tr>\n",
       "      <th>3</th>\n",
       "      <td>943803</td>\n",
       "      <td>29649290</td>\n",
       "      <td>2020-07-18 05:52:00</td>\n",
       "      <td>2020-07-25 07:03:00</td>\n",
       "      <td>0.0</td>\n",
       "      <td>169.183333</td>\n",
       "      <td>169.183333</td>\n",
       "      <td>1</td>\n",
       "      <td>0</td>\n",
       "    </tr>\n",
       "    <tr>\n",
       "      <th>14</th>\n",
       "      <td>943803</td>\n",
       "      <td>42662957</td>\n",
       "      <td>2020-07-16 15:55:00</td>\n",
       "      <td>2020-07-25 07:03:00</td>\n",
       "      <td>0.0</td>\n",
       "      <td>207.133333</td>\n",
       "      <td>207.133333</td>\n",
       "      <td>1</td>\n",
       "      <td>0</td>\n",
       "    </tr>\n",
       "    <tr>\n",
       "      <th>20</th>\n",
       "      <td>943803</td>\n",
       "      <td>43038330</td>\n",
       "      <td>2020-07-18 05:52:00</td>\n",
       "      <td>2020-07-25 07:03:00</td>\n",
       "      <td>0.0</td>\n",
       "      <td>169.183333</td>\n",
       "      <td>169.183333</td>\n",
       "      <td>1</td>\n",
       "      <td>0</td>\n",
       "    </tr>\n",
       "  </tbody>\n",
       "</table>\n",
       "</div>"
      ],
      "text/plain": [
       "    operation_st_esr  car_number         start3_date           end4_date  \\\n",
       "1             943803    29196490 2020-07-18 05:52:00 2020-07-25 07:03:00   \n",
       "2             943803    29501491 2020-07-16 15:55:00 2020-07-25 07:03:00   \n",
       "3             943803    29649290 2020-07-18 05:52:00 2020-07-25 07:03:00   \n",
       "14            943803    42662957 2020-07-16 15:55:00 2020-07-25 07:03:00   \n",
       "20            943803    43038330 2020-07-18 05:52:00 2020-07-25 07:03:00   \n",
       "\n",
       "    1Xduration  2Xduration    duration  unload_only  load_only  \n",
       "1          0.0  169.183333  169.183333            1          0  \n",
       "2          0.0  207.133333  207.133333            1          0  \n",
       "3          0.0  169.183333  169.183333            1          0  \n",
       "14         0.0  207.133333  207.133333            1          0  \n",
       "20         0.0  169.183333  169.183333            1          0  "
      ]
     },
     "execution_count": 64,
     "metadata": {},
     "output_type": "execute_result"
    }
   ],
   "source": [
    "data_uo = data.loc[ data['unload_only']==1]\n",
    "print(data_uo.size)\n",
    "data_uo.head()"
   ]
  },
  {
   "cell_type": "code",
   "execution_count": 36,
   "metadata": {},
   "outputs": [
    {
     "data": {
      "image/png": "[encoded data removed]",
      "text/plain": [
       "<Figure size 1152x216 with 1 Axes>"
      ]
     },
     "metadata": {
      "needs_background": "light"
     },
     "output_type": "display_data"
    },
    {
     "data": {
      "image/png": "[encoded data removed]",
      "text/plain": [
       "<Figure size 1152x216 with 1 Axes>"
      ]
     },
     "metadata": {
      "needs_background": "light"
     },
     "output_type": "display_data"
    },
    {
     "data": {
      "image/png": "[encoded data removed]",
      "text/plain": [
       "<Figure size 1152x216 with 1 Axes>"
      ]
     },
     "metadata": {
      "needs_background": "light"
     },
     "output_type": "display_data"
    }
   ],
   "source": [
    "plt.figure(figsize=(16,3))\n",
    "plt.hist(data_uo.query('operation_st_esr==967600').duration,bins=50,histtype='step',label='large')\n",
    "plt.legend(loc='best')\n",
    "plt.figure(figsize=(16,3))\n",
    "# plt.hist(data_uo.query('operation_st_esr==954102').duration,bins=50,histtype='step',label='small 0')\n",
    "plt.hist(data_uo.query('operation_st_esr==943803').duration,bins=50,histtype='step',label='small 1')\n",
    "plt.legend(loc='best')\n",
    "plt.figure(figsize=(16,3))\n",
    "plt.hist(data_uo.query('operation_st_esr==946801').duration,bins=50,histtype='step',label='medium')\n",
    "plt.legend(loc='best');\n",
    "#plt.title('Распределение длительности операций освобождения вагона')"
   ]
  },
  {
   "cell_type": "markdown",
   "metadata": {},
   "source": []
  },
  {
   "cell_type": "code",
   "execution_count": 68,
   "metadata": {},
   "outputs": [
    {
     "data": {
      "image/png": "[encoded data removed]",
      "text/plain": [
       "<Figure size 1152x720 with 3 Axes>"
      ]
     },
     "metadata": {
      "needs_background": "light"
     },
     "output_type": "display_data"
    }
   ],
   "source": [
    "#fig = plt.figure(figsize=(16,10))\n",
    "# fig.add_subplot(3,1,1)\n",
    "fig, axs = plt.subplots(3, sharex=True) \n",
    "#fig=fig.figure(figsize=(16,10))\n",
    "fig.set_figheight(10)\n",
    "fig.set_figwidth(16)\n",
    "# fig.suptitle('Операции освобождения вагонов')\n",
    "axs[0].hist(data_uo.query('operation_st_esr==967600').duration,bins=50,histtype='stepfilled',label='large')\n",
    "axs[0].legend(loc='best')\n",
    "axs[1].hist(data_uo.query('operation_st_esr==946801').duration,bins=50,histtype='stepfilled',label='medium')\n",
    "axs[1].legend(loc='best');\n",
    "# plt.hist(data_uo.query('operation_st_esr==954102').duration,bins=50,histtype='stepfilled',label='small 0')\n",
    "axs[2].hist(data_uo.query('operation_st_esr==943803').duration,bins=50,histtype='stepfilled',label='small 1')\n",
    "axs[2].legend(loc='best');\n",
    "#plt.title('Распределение длительности операций освобождения вагона')"
   ]
  },
  {
   "cell_type": "code",
   "execution_count": 65,
   "metadata": {},
   "outputs": [
    {
     "name": "stdout",
     "output_type": "stream",
     "text": [
      "13194\n"
     ]
    },
    {
     "data": {
      "text/html": [
       "<div>\n",
       "<style scoped>\n",
       "    .dataframe tbody tr th:only-of-type {\n",
       "        vertical-align: middle;\n",
       "    }\n",
       "\n",
       "    .dataframe tbody tr th {\n",
       "        vertical-align: top;\n",
       "    }\n",
       "\n",
       "    .dataframe thead th {\n",
       "        text-align: right;\n",
       "    }\n",
       "</style>\n",
       "<table border=\"1\" class=\"dataframe\">\n",
       "  <thead>\n",
       "    <tr style=\"text-align: right;\">\n",
       "      <th></th>\n",
       "      <th>operation_st_esr</th>\n",
       "      <th>car_number</th>\n",
       "      <th>start3_date</th>\n",
       "      <th>end4_date</th>\n",
       "      <th>1Xduration</th>\n",
       "      <th>2Xduration</th>\n",
       "      <th>duration</th>\n",
       "      <th>unload_only</th>\n",
       "      <th>load_only</th>\n",
       "    </tr>\n",
       "  </thead>\n",
       "  <tbody>\n",
       "    <tr>\n",
       "      <th>116</th>\n",
       "      <td>946801</td>\n",
       "      <td>24614307</td>\n",
       "      <td>2020-07-05 21:22:00</td>\n",
       "      <td>2020-07-06 06:44:00</td>\n",
       "      <td>9.366667</td>\n",
       "      <td>0.0</td>\n",
       "      <td>9.366667</td>\n",
       "      <td>0</td>\n",
       "      <td>1</td>\n",
       "    </tr>\n",
       "    <tr>\n",
       "      <th>118</th>\n",
       "      <td>946801</td>\n",
       "      <td>28034189</td>\n",
       "      <td>2020-07-05 23:25:00</td>\n",
       "      <td>2020-07-07 09:38:00</td>\n",
       "      <td>34.216667</td>\n",
       "      <td>0.0</td>\n",
       "      <td>34.216667</td>\n",
       "      <td>0</td>\n",
       "      <td>1</td>\n",
       "    </tr>\n",
       "    <tr>\n",
       "      <th>119</th>\n",
       "      <td>946801</td>\n",
       "      <td>28035848</td>\n",
       "      <td>2020-07-04 07:41:00</td>\n",
       "      <td>2020-07-04 19:07:00</td>\n",
       "      <td>11.433333</td>\n",
       "      <td>0.0</td>\n",
       "      <td>11.433333</td>\n",
       "      <td>0</td>\n",
       "      <td>1</td>\n",
       "    </tr>\n",
       "    <tr>\n",
       "      <th>120</th>\n",
       "      <td>946801</td>\n",
       "      <td>28068708</td>\n",
       "      <td>2020-07-05 06:45:00</td>\n",
       "      <td>2020-07-15 06:01:00</td>\n",
       "      <td>239.266667</td>\n",
       "      <td>0.0</td>\n",
       "      <td>239.266667</td>\n",
       "      <td>0</td>\n",
       "      <td>1</td>\n",
       "    </tr>\n",
       "    <tr>\n",
       "      <th>121</th>\n",
       "      <td>946801</td>\n",
       "      <td>28074003</td>\n",
       "      <td>2020-07-05 21:22:00</td>\n",
       "      <td>2020-07-12 02:12:00</td>\n",
       "      <td>148.833333</td>\n",
       "      <td>0.0</td>\n",
       "      <td>148.833333</td>\n",
       "      <td>0</td>\n",
       "      <td>1</td>\n",
       "    </tr>\n",
       "  </tbody>\n",
       "</table>\n",
       "</div>"
      ],
      "text/plain": [
       "     operation_st_esr  car_number         start3_date           end4_date  \\\n",
       "116            946801    24614307 2020-07-05 21:22:00 2020-07-06 06:44:00   \n",
       "118            946801    28034189 2020-07-05 23:25:00 2020-07-07 09:38:00   \n",
       "119            946801    28035848 2020-07-04 07:41:00 2020-07-04 19:07:00   \n",
       "120            946801    28068708 2020-07-05 06:45:00 2020-07-15 06:01:00   \n",
       "121            946801    28074003 2020-07-05 21:22:00 2020-07-12 02:12:00   \n",
       "\n",
       "     1Xduration  2Xduration    duration  unload_only  load_only  \n",
       "116    9.366667         0.0    9.366667            0          1  \n",
       "118   34.216667         0.0   34.216667            0          1  \n",
       "119   11.433333         0.0   11.433333            0          1  \n",
       "120  239.266667         0.0  239.266667            0          1  \n",
       "121  148.833333         0.0  148.833333            0          1  "
      ]
     },
     "execution_count": 65,
     "metadata": {},
     "output_type": "execute_result"
    }
   ],
   "source": [
    "data_lo = data.loc[ data['load_only']==1]\n",
    "print(data_lo.size)\n",
    "data_lo.head()"
   ]
  },
  {
   "cell_type": "code",
   "execution_count": 67,
   "metadata": {},
   "outputs": [
    {
     "data": {
      "image/png": "[encoded data removed]",
      "text/plain": [
       "<Figure size 1152x720 with 3 Axes>"
      ]
     },
     "metadata": {
      "needs_background": "light"
     },
     "output_type": "display_data"
    }
   ],
   "source": [
    "#fig = plt.figure(figsize=(16,10))\n",
    "# fig.add_subplot(3,1,1)\n",
    "fig, axs = plt.subplots(3, sharex=True) \n",
    "#fig=fig.figure(figsize=(16,10))\n",
    "fig.set_figheight(10)\n",
    "fig.set_figwidth(16)\n",
    "# fig.suptitle('Операции загрузки пустого вагонов')\n",
    "axs[0].hist(data_lo.query('operation_st_esr==967600').duration,bins=50,histtype='stepfilled',label='large')\n",
    "axs[0].legend(loc='best')\n",
    "axs[1].hist(data_lo.query('operation_st_esr==946801').duration,bins=50,histtype='stepfilled',label='medium')\n",
    "axs[1].legend(loc='best');\n",
    "axs[2].hist(data_lo.query('operation_st_esr==954102').duration,bins=50,histtype='stepfilled',label='small 0')\n",
    "#axs[2].hist(data_lo.query('operation_st_esr==943803').duration,bins=50,histtype='stepfilled',label='small 1')\n",
    "axs[2].legend(loc='best');\n",
    "#plt.title('Распределение длительности операций освобождения вагона')"
   ]
  },
  {
   "cell_type": "code",
   "execution_count": 60,
   "metadata": {},
   "outputs": [
    {
     "name": "stdout",
     "output_type": "stream",
     "text": [
      "13113\n"
     ]
    },
    {
     "data": {
      "text/html": [
       "<div>\n",
       "<style scoped>\n",
       "    .dataframe tbody tr th:only-of-type {\n",
       "        vertical-align: middle;\n",
       "    }\n",
       "\n",
       "    .dataframe tbody tr th {\n",
       "        vertical-align: top;\n",
       "    }\n",
       "\n",
       "    .dataframe thead th {\n",
       "        text-align: right;\n",
       "    }\n",
       "</style>\n",
       "<table border=\"1\" class=\"dataframe\">\n",
       "  <thead>\n",
       "    <tr style=\"text-align: right;\">\n",
       "      <th></th>\n",
       "      <th>operation_st_esr</th>\n",
       "      <th>car_number</th>\n",
       "      <th>start3_date</th>\n",
       "      <th>end4_date</th>\n",
       "      <th>1Xduration</th>\n",
       "      <th>2Xduration</th>\n",
       "      <th>duration</th>\n",
       "      <th>unload_only</th>\n",
       "      <th>load_only</th>\n",
       "    </tr>\n",
       "  </thead>\n",
       "  <tbody>\n",
       "    <tr>\n",
       "      <th>0</th>\n",
       "      <td>943803</td>\n",
       "      <td>24562753</td>\n",
       "      <td>2020-07-14 17:11:00</td>\n",
       "      <td>2020-07-21 19:56:00</td>\n",
       "      <td>35.566667</td>\n",
       "      <td>135.183333</td>\n",
       "      <td>170.750000</td>\n",
       "      <td>0</td>\n",
       "      <td>0</td>\n",
       "    </tr>\n",
       "    <tr>\n",
       "      <th>4</th>\n",
       "      <td>943803</td>\n",
       "      <td>29649399</td>\n",
       "      <td>2020-07-13 16:37:00</td>\n",
       "      <td>2020-07-16 07:58:00</td>\n",
       "      <td>42.383333</td>\n",
       "      <td>20.966667</td>\n",
       "      <td>63.350000</td>\n",
       "      <td>0</td>\n",
       "      <td>0</td>\n",
       "    </tr>\n",
       "    <tr>\n",
       "      <th>5</th>\n",
       "      <td>943803</td>\n",
       "      <td>42026583</td>\n",
       "      <td>2020-07-15 04:29:00</td>\n",
       "      <td>2020-07-20 03:17:00</td>\n",
       "      <td>89.450000</td>\n",
       "      <td>29.350000</td>\n",
       "      <td>118.800000</td>\n",
       "      <td>0</td>\n",
       "      <td>0</td>\n",
       "    </tr>\n",
       "    <tr>\n",
       "      <th>6</th>\n",
       "      <td>943803</td>\n",
       "      <td>42434910</td>\n",
       "      <td>2020-07-13 16:37:00</td>\n",
       "      <td>2020-07-16 07:33:00</td>\n",
       "      <td>20.033333</td>\n",
       "      <td>42.900000</td>\n",
       "      <td>62.933333</td>\n",
       "      <td>0</td>\n",
       "      <td>0</td>\n",
       "    </tr>\n",
       "    <tr>\n",
       "      <th>7</th>\n",
       "      <td>943803</td>\n",
       "      <td>42452136</td>\n",
       "      <td>2020-07-18 05:52:00</td>\n",
       "      <td>2020-07-21 19:56:00</td>\n",
       "      <td>28.750000</td>\n",
       "      <td>57.316667</td>\n",
       "      <td>86.066667</td>\n",
       "      <td>0</td>\n",
       "      <td>0</td>\n",
       "    </tr>\n",
       "  </tbody>\n",
       "</table>\n",
       "</div>"
      ],
      "text/plain": [
       "   operation_st_esr  car_number         start3_date           end4_date  \\\n",
       "0            943803    24562753 2020-07-14 17:11:00 2020-07-21 19:56:00   \n",
       "4            943803    29649399 2020-07-13 16:37:00 2020-07-16 07:58:00   \n",
       "5            943803    42026583 2020-07-15 04:29:00 2020-07-20 03:17:00   \n",
       "6            943803    42434910 2020-07-13 16:37:00 2020-07-16 07:33:00   \n",
       "7            943803    42452136 2020-07-18 05:52:00 2020-07-21 19:56:00   \n",
       "\n",
       "   1Xduration  2Xduration    duration  unload_only  load_only  \n",
       "0   35.566667  135.183333  170.750000            0          0  \n",
       "4   42.383333   20.966667   63.350000            0          0  \n",
       "5   89.450000   29.350000  118.800000            0          0  \n",
       "6   20.033333   42.900000   62.933333            0          0  \n",
       "7   28.750000   57.316667   86.066667            0          0  "
      ]
     },
     "execution_count": 60,
     "metadata": {},
     "output_type": "execute_result"
    }
   ],
   "source": [
    "data_1 = data.loc[ data['load_only']==0]\n",
    "data_ul = data_1[data_1['unload_only']==0]\n",
    "print(data_ul.size)\n",
    "data_ul.head()"
   ]
  },
  {
   "cell_type": "code",
   "execution_count": 66,
   "metadata": {},
   "outputs": [
    {
     "data": {
      "image/png": "[encoded data removed]",
      "text/plain": [
       "<Figure size 1152x720 with 3 Axes>"
      ]
     },
     "metadata": {
      "needs_background": "light"
     },
     "output_type": "display_data"
    }
   ],
   "source": [
    "fig, axs = plt.subplots(3, sharex=True) \n",
    "#fig=fig.figure(figsize=(16,10))\n",
    "fig.set_figheight(10)\n",
    "fig.set_figwidth(16)\n",
    "# fig.suptitle('Операции загрузки пустого вагонов')\n",
    "axs[0].hist(data_ul.query('operation_st_esr==967600').duration,bins=50,histtype='stepfilled',label='large')\n",
    "axs[0].legend(loc='best')\n",
    "axs[1].hist(data_ul.query('operation_st_esr==946801').duration,bins=50,histtype='stepfilled',label='medium')\n",
    "axs[1].legend(loc='best');\n",
    "axs[2].hist(data_ul.query('operation_st_esr==954102').duration,bins=50,histtype='stepfilled',label='small 0')\n",
    "axs[2].hist(data_ul.query('operation_st_esr==943803').duration,bins=50,histtype='stepfilled',label='small 1')\n",
    "axs[2].legend(loc='best');\n",
    "#plt.title('Распределение длительности операций освобождения вагона')"
   ]
  },
  {
   "cell_type": "code",
   "execution_count": null,
   "metadata": {},
   "outputs": [],
   "source": []
  }
 ],
 "metadata": {
  "interpreter": {
   "hash": "addbcdd03704fafbc83443546c5ba4d9ee80e366948352667fd4709d4f794dc3"
  },
  "kernelspec": {
   "display_name": "Python 3.9.7",
   "language": "python",
   "name": "python3"
  },
  "language_info": {
   "codemirror_mode": {
    "name": "ipython",
    "version": 3
   },
   "file_extension": ".py",
   "mimetype": "text/x-python",
   "name": "python",
   "nbconvert_exporter": "python",
   "pygments_lexer": "ipython3",
   "version": "3.9.7"
  },
  "orig_nbformat": 4
 },
 "nbformat": 4,
 "nbformat_minor": 2
}
